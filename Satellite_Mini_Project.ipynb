{
  "nbformat": 4,
  "nbformat_minor": 0,
  "metadata": {
    "colab": {
      "name": "Satellite_Mini_Project.ipynb",
      "provenance": [],
      "collapsed_sections": [],
      "authorship_tag": "ABX9TyOnIVcyYjWwnZAfLrl1SBKf",
      "include_colab_link": true
    },
    "kernelspec": {
      "name": "python3",
      "display_name": "Python 3"
    },
    "language_info": {
      "name": "python"
    }
  },
  "cells": [
    {
      "cell_type": "markdown",
      "metadata": {
        "id": "view-in-github",
        "colab_type": "text"
      },
      "source": [
        "<a href=\"https://colab.research.google.com/github/buabaj/Satellite-Physics-mini-Project/blob/main/Satellite_Mini_Project.ipynb\" target=\"_parent\"><img src=\"https://colab.research.google.com/assets/colab-badge.svg\" alt=\"Open In Colab\"/></a>"
      ]
    },
    {
      "cell_type": "code",
      "metadata": {
        "id": "8dMcXyHVnGDa"
      },
      "source": [
        "import matplotlib.pyplot as plt\n",
        "import numpy as np\n",
        "import pandas as pd\n",
        "import scipy as sp\n",
        "import seaborn as sb"
      ],
      "execution_count": null,
      "outputs": []
    },
    {
      "cell_type": "code",
      "metadata": {
        "colab": {
          "base_uri": "https://localhost:8080/",
          "height": 197
        },
        "id": "QU1d57WxnjYR",
        "outputId": "d7291fab-cbbc-4589-9a0c-158d9c97026a"
      },
      "source": [
        "data = 'group3.xlsx'\n",
        "df = pd.read_excel(data)\n",
        "df = pd.DataFrame(df)\n",
        "df['DAY'] = 1\n",
        "df.head()"
      ],
      "execution_count": null,
      "outputs": [
        {
          "output_type": "execute_result",
          "data": {
            "text/html": [
              "<div>\n",
              "<style scoped>\n",
              "    .dataframe tbody tr th:only-of-type {\n",
              "        vertical-align: middle;\n",
              "    }\n",
              "\n",
              "    .dataframe tbody tr th {\n",
              "        vertical-align: top;\n",
              "    }\n",
              "\n",
              "    .dataframe thead th {\n",
              "        text-align: right;\n",
              "    }\n",
              "</style>\n",
              "<table border=\"1\" class=\"dataframe\">\n",
              "  <thead>\n",
              "    <tr style=\"text-align: right;\">\n",
              "      <th></th>\n",
              "      <th>YEAR</th>\n",
              "      <th>MONTH</th>\n",
              "      <th>GAUGE</th>\n",
              "      <th>SATELLITE_DATA</th>\n",
              "      <th>DAY</th>\n",
              "    </tr>\n",
              "  </thead>\n",
              "  <tbody>\n",
              "    <tr>\n",
              "      <th>0</th>\n",
              "      <td>1998</td>\n",
              "      <td>1</td>\n",
              "      <td>20.903946</td>\n",
              "      <td>9.638920</td>\n",
              "      <td>1</td>\n",
              "    </tr>\n",
              "    <tr>\n",
              "      <th>1</th>\n",
              "      <td>1998</td>\n",
              "      <td>2</td>\n",
              "      <td>27.162743</td>\n",
              "      <td>12.724389</td>\n",
              "      <td>1</td>\n",
              "    </tr>\n",
              "    <tr>\n",
              "      <th>2</th>\n",
              "      <td>1998</td>\n",
              "      <td>3</td>\n",
              "      <td>28.503807</td>\n",
              "      <td>23.913721</td>\n",
              "      <td>1</td>\n",
              "    </tr>\n",
              "    <tr>\n",
              "      <th>3</th>\n",
              "      <td>1998</td>\n",
              "      <td>4</td>\n",
              "      <td>94.114746</td>\n",
              "      <td>137.321091</td>\n",
              "      <td>1</td>\n",
              "    </tr>\n",
              "    <tr>\n",
              "      <th>4</th>\n",
              "      <td>1998</td>\n",
              "      <td>5</td>\n",
              "      <td>121.339172</td>\n",
              "      <td>130.427383</td>\n",
              "      <td>1</td>\n",
              "    </tr>\n",
              "  </tbody>\n",
              "</table>\n",
              "</div>"
            ],
            "text/plain": [
              "   YEAR  MONTH       GAUGE  SATELLITE_DATA  DAY\n",
              "0  1998      1   20.903946        9.638920    1\n",
              "1  1998      2   27.162743       12.724389    1\n",
              "2  1998      3   28.503807       23.913721    1\n",
              "3  1998      4   94.114746      137.321091    1\n",
              "4  1998      5  121.339172      130.427383    1"
            ]
          },
          "metadata": {
            "tags": []
          },
          "execution_count": 426
        }
      ]
    },
    {
      "cell_type": "code",
      "metadata": {
        "colab": {
          "base_uri": "https://localhost:8080/"
        },
        "id": "1PY8e0mDnyze",
        "outputId": "e74b5883-3755-4931-c179-9f3a77b15ada"
      },
      "source": [
        "year = df['YEAR']\n",
        "year"
      ],
      "execution_count": null,
      "outputs": [
        {
          "output_type": "execute_result",
          "data": {
            "text/plain": [
              "0      1998\n",
              "1      1998\n",
              "2      1998\n",
              "3      1998\n",
              "4      1998\n",
              "       ... \n",
              "175    2012\n",
              "176    2012\n",
              "177    2012\n",
              "178    2012\n",
              "179    2012\n",
              "Name: YEAR, Length: 180, dtype: int64"
            ]
          },
          "metadata": {
            "tags": []
          },
          "execution_count": 427
        }
      ]
    },
    {
      "cell_type": "code",
      "metadata": {
        "colab": {
          "base_uri": "https://localhost:8080/"
        },
        "id": "zHSxcp74n6B1",
        "outputId": "06a9108a-e689-4c53-e469-6dcbc8bdb5e6"
      },
      "source": [
        "month = df['MONTH']\n",
        "month"
      ],
      "execution_count": null,
      "outputs": [
        {
          "output_type": "execute_result",
          "data": {
            "text/plain": [
              "0       1\n",
              "1       2\n",
              "2       3\n",
              "3       4\n",
              "4       5\n",
              "       ..\n",
              "175     8\n",
              "176     9\n",
              "177    10\n",
              "178    11\n",
              "179    12\n",
              "Name: MONTH, Length: 180, dtype: int64"
            ]
          },
          "metadata": {
            "tags": []
          },
          "execution_count": 428
        }
      ]
    },
    {
      "cell_type": "code",
      "metadata": {
        "colab": {
          "base_uri": "https://localhost:8080/"
        },
        "id": "UwuHpzlRoFEC",
        "outputId": "3bff9bcb-64c0-4d66-ce8d-62ff2c7c45e0"
      },
      "source": [
        "gauge = df['GAUGE']\n",
        "gauge"
      ],
      "execution_count": null,
      "outputs": [
        {
          "output_type": "execute_result",
          "data": {
            "text/plain": [
              "0       20.903946\n",
              "1       27.162743\n",
              "2       28.503807\n",
              "3       94.114746\n",
              "4      121.339172\n",
              "          ...    \n",
              "175     77.245155\n",
              "176    168.770508\n",
              "177    142.981079\n",
              "178     42.880787\n",
              "179     16.743238\n",
              "Name: GAUGE, Length: 180, dtype: float64"
            ]
          },
          "metadata": {
            "tags": []
          },
          "execution_count": 429
        }
      ]
    },
    {
      "cell_type": "code",
      "metadata": {
        "colab": {
          "base_uri": "https://localhost:8080/"
        },
        "id": "XnmCBuPJoL60",
        "outputId": "8de8155e-c2f2-48ec-e1c1-497a2724d6d2"
      },
      "source": [
        "satellite_data = df['SATELLITE_DATA']\n",
        "satellite_data"
      ],
      "execution_count": null,
      "outputs": [
        {
          "output_type": "execute_result",
          "data": {
            "text/plain": [
              "0        9.638920\n",
              "1       12.724389\n",
              "2       23.913721\n",
              "3      137.321091\n",
              "4      130.427383\n",
              "          ...    \n",
              "175    103.280853\n",
              "176    177.671188\n",
              "177    225.513306\n",
              "178     51.813175\n",
              "179     14.739365\n",
              "Name: SATELLITE_DATA, Length: 180, dtype: float64"
            ]
          },
          "metadata": {
            "tags": []
          },
          "execution_count": 430
        }
      ]
    },
    {
      "cell_type": "code",
      "metadata": {
        "colab": {
          "base_uri": "https://localhost:8080/",
          "height": 406
        },
        "id": "cJ1WOWZzq4fo",
        "outputId": "d9baf6bf-e097-49dd-fd38-a59f176c5fbf"
      },
      "source": [
        "date = pd.to_datetime(df[[\"YEAR\", \"MONTH\", 'DAY']])\n",
        "df['DATE'] = date\n",
        "df"
      ],
      "execution_count": null,
      "outputs": [
        {
          "output_type": "execute_result",
          "data": {
            "text/html": [
              "<div>\n",
              "<style scoped>\n",
              "    .dataframe tbody tr th:only-of-type {\n",
              "        vertical-align: middle;\n",
              "    }\n",
              "\n",
              "    .dataframe tbody tr th {\n",
              "        vertical-align: top;\n",
              "    }\n",
              "\n",
              "    .dataframe thead th {\n",
              "        text-align: right;\n",
              "    }\n",
              "</style>\n",
              "<table border=\"1\" class=\"dataframe\">\n",
              "  <thead>\n",
              "    <tr style=\"text-align: right;\">\n",
              "      <th></th>\n",
              "      <th>YEAR</th>\n",
              "      <th>MONTH</th>\n",
              "      <th>GAUGE</th>\n",
              "      <th>SATELLITE_DATA</th>\n",
              "      <th>DAY</th>\n",
              "      <th>DATE</th>\n",
              "    </tr>\n",
              "  </thead>\n",
              "  <tbody>\n",
              "    <tr>\n",
              "      <th>0</th>\n",
              "      <td>1998</td>\n",
              "      <td>1</td>\n",
              "      <td>20.903946</td>\n",
              "      <td>9.638920</td>\n",
              "      <td>1</td>\n",
              "      <td>1998-01-01</td>\n",
              "    </tr>\n",
              "    <tr>\n",
              "      <th>1</th>\n",
              "      <td>1998</td>\n",
              "      <td>2</td>\n",
              "      <td>27.162743</td>\n",
              "      <td>12.724389</td>\n",
              "      <td>1</td>\n",
              "      <td>1998-02-01</td>\n",
              "    </tr>\n",
              "    <tr>\n",
              "      <th>2</th>\n",
              "      <td>1998</td>\n",
              "      <td>3</td>\n",
              "      <td>28.503807</td>\n",
              "      <td>23.913721</td>\n",
              "      <td>1</td>\n",
              "      <td>1998-03-01</td>\n",
              "    </tr>\n",
              "    <tr>\n",
              "      <th>3</th>\n",
              "      <td>1998</td>\n",
              "      <td>4</td>\n",
              "      <td>94.114746</td>\n",
              "      <td>137.321091</td>\n",
              "      <td>1</td>\n",
              "      <td>1998-04-01</td>\n",
              "    </tr>\n",
              "    <tr>\n",
              "      <th>4</th>\n",
              "      <td>1998</td>\n",
              "      <td>5</td>\n",
              "      <td>121.339172</td>\n",
              "      <td>130.427383</td>\n",
              "      <td>1</td>\n",
              "      <td>1998-05-01</td>\n",
              "    </tr>\n",
              "    <tr>\n",
              "      <th>...</th>\n",
              "      <td>...</td>\n",
              "      <td>...</td>\n",
              "      <td>...</td>\n",
              "      <td>...</td>\n",
              "      <td>...</td>\n",
              "      <td>...</td>\n",
              "    </tr>\n",
              "    <tr>\n",
              "      <th>175</th>\n",
              "      <td>2012</td>\n",
              "      <td>8</td>\n",
              "      <td>77.245155</td>\n",
              "      <td>103.280853</td>\n",
              "      <td>1</td>\n",
              "      <td>2012-08-01</td>\n",
              "    </tr>\n",
              "    <tr>\n",
              "      <th>176</th>\n",
              "      <td>2012</td>\n",
              "      <td>9</td>\n",
              "      <td>168.770508</td>\n",
              "      <td>177.671188</td>\n",
              "      <td>1</td>\n",
              "      <td>2012-09-01</td>\n",
              "    </tr>\n",
              "    <tr>\n",
              "      <th>177</th>\n",
              "      <td>2012</td>\n",
              "      <td>10</td>\n",
              "      <td>142.981079</td>\n",
              "      <td>225.513306</td>\n",
              "      <td>1</td>\n",
              "      <td>2012-10-01</td>\n",
              "    </tr>\n",
              "    <tr>\n",
              "      <th>178</th>\n",
              "      <td>2012</td>\n",
              "      <td>11</td>\n",
              "      <td>42.880787</td>\n",
              "      <td>51.813175</td>\n",
              "      <td>1</td>\n",
              "      <td>2012-11-01</td>\n",
              "    </tr>\n",
              "    <tr>\n",
              "      <th>179</th>\n",
              "      <td>2012</td>\n",
              "      <td>12</td>\n",
              "      <td>16.743238</td>\n",
              "      <td>14.739365</td>\n",
              "      <td>1</td>\n",
              "      <td>2012-12-01</td>\n",
              "    </tr>\n",
              "  </tbody>\n",
              "</table>\n",
              "<p>180 rows × 6 columns</p>\n",
              "</div>"
            ],
            "text/plain": [
              "     YEAR  MONTH       GAUGE  SATELLITE_DATA  DAY       DATE\n",
              "0    1998      1   20.903946        9.638920    1 1998-01-01\n",
              "1    1998      2   27.162743       12.724389    1 1998-02-01\n",
              "2    1998      3   28.503807       23.913721    1 1998-03-01\n",
              "3    1998      4   94.114746      137.321091    1 1998-04-01\n",
              "4    1998      5  121.339172      130.427383    1 1998-05-01\n",
              "..    ...    ...         ...             ...  ...        ...\n",
              "175  2012      8   77.245155      103.280853    1 2012-08-01\n",
              "176  2012      9  168.770508      177.671188    1 2012-09-01\n",
              "177  2012     10  142.981079      225.513306    1 2012-10-01\n",
              "178  2012     11   42.880787       51.813175    1 2012-11-01\n",
              "179  2012     12   16.743238       14.739365    1 2012-12-01\n",
              "\n",
              "[180 rows x 6 columns]"
            ]
          },
          "metadata": {
            "tags": []
          },
          "execution_count": 431
        }
      ]
    },
    {
      "cell_type": "code",
      "metadata": {
        "id": "wtSVo_G-5xpT"
      },
      "source": [
        "df = df.set_index('MONTH') "
      ],
      "execution_count": null,
      "outputs": []
    },
    {
      "cell_type": "code",
      "metadata": {
        "colab": {
          "base_uri": "https://localhost:8080/",
          "height": 436
        },
        "id": "N9K6Vj88sZhZ",
        "outputId": "5295819f-8c7f-4b32-af99-f32eb7d31449"
      },
      "source": [
        "df"
      ],
      "execution_count": null,
      "outputs": [
        {
          "output_type": "execute_result",
          "data": {
            "text/html": [
              "<div>\n",
              "<style scoped>\n",
              "    .dataframe tbody tr th:only-of-type {\n",
              "        vertical-align: middle;\n",
              "    }\n",
              "\n",
              "    .dataframe tbody tr th {\n",
              "        vertical-align: top;\n",
              "    }\n",
              "\n",
              "    .dataframe thead th {\n",
              "        text-align: right;\n",
              "    }\n",
              "</style>\n",
              "<table border=\"1\" class=\"dataframe\">\n",
              "  <thead>\n",
              "    <tr style=\"text-align: right;\">\n",
              "      <th></th>\n",
              "      <th>YEAR</th>\n",
              "      <th>GAUGE</th>\n",
              "      <th>SATELLITE_DATA</th>\n",
              "      <th>DAY</th>\n",
              "      <th>DATE</th>\n",
              "    </tr>\n",
              "    <tr>\n",
              "      <th>MONTH</th>\n",
              "      <th></th>\n",
              "      <th></th>\n",
              "      <th></th>\n",
              "      <th></th>\n",
              "      <th></th>\n",
              "    </tr>\n",
              "  </thead>\n",
              "  <tbody>\n",
              "    <tr>\n",
              "      <th>1</th>\n",
              "      <td>1998</td>\n",
              "      <td>20.903946</td>\n",
              "      <td>9.638920</td>\n",
              "      <td>1</td>\n",
              "      <td>1998-01-01</td>\n",
              "    </tr>\n",
              "    <tr>\n",
              "      <th>2</th>\n",
              "      <td>1998</td>\n",
              "      <td>27.162743</td>\n",
              "      <td>12.724389</td>\n",
              "      <td>1</td>\n",
              "      <td>1998-02-01</td>\n",
              "    </tr>\n",
              "    <tr>\n",
              "      <th>3</th>\n",
              "      <td>1998</td>\n",
              "      <td>28.503807</td>\n",
              "      <td>23.913721</td>\n",
              "      <td>1</td>\n",
              "      <td>1998-03-01</td>\n",
              "    </tr>\n",
              "    <tr>\n",
              "      <th>4</th>\n",
              "      <td>1998</td>\n",
              "      <td>94.114746</td>\n",
              "      <td>137.321091</td>\n",
              "      <td>1</td>\n",
              "      <td>1998-04-01</td>\n",
              "    </tr>\n",
              "    <tr>\n",
              "      <th>5</th>\n",
              "      <td>1998</td>\n",
              "      <td>121.339172</td>\n",
              "      <td>130.427383</td>\n",
              "      <td>1</td>\n",
              "      <td>1998-05-01</td>\n",
              "    </tr>\n",
              "    <tr>\n",
              "      <th>...</th>\n",
              "      <td>...</td>\n",
              "      <td>...</td>\n",
              "      <td>...</td>\n",
              "      <td>...</td>\n",
              "      <td>...</td>\n",
              "    </tr>\n",
              "    <tr>\n",
              "      <th>8</th>\n",
              "      <td>2012</td>\n",
              "      <td>77.245155</td>\n",
              "      <td>103.280853</td>\n",
              "      <td>1</td>\n",
              "      <td>2012-08-01</td>\n",
              "    </tr>\n",
              "    <tr>\n",
              "      <th>9</th>\n",
              "      <td>2012</td>\n",
              "      <td>168.770508</td>\n",
              "      <td>177.671188</td>\n",
              "      <td>1</td>\n",
              "      <td>2012-09-01</td>\n",
              "    </tr>\n",
              "    <tr>\n",
              "      <th>10</th>\n",
              "      <td>2012</td>\n",
              "      <td>142.981079</td>\n",
              "      <td>225.513306</td>\n",
              "      <td>1</td>\n",
              "      <td>2012-10-01</td>\n",
              "    </tr>\n",
              "    <tr>\n",
              "      <th>11</th>\n",
              "      <td>2012</td>\n",
              "      <td>42.880787</td>\n",
              "      <td>51.813175</td>\n",
              "      <td>1</td>\n",
              "      <td>2012-11-01</td>\n",
              "    </tr>\n",
              "    <tr>\n",
              "      <th>12</th>\n",
              "      <td>2012</td>\n",
              "      <td>16.743238</td>\n",
              "      <td>14.739365</td>\n",
              "      <td>1</td>\n",
              "      <td>2012-12-01</td>\n",
              "    </tr>\n",
              "  </tbody>\n",
              "</table>\n",
              "<p>180 rows × 5 columns</p>\n",
              "</div>"
            ],
            "text/plain": [
              "       YEAR       GAUGE  SATELLITE_DATA  DAY       DATE\n",
              "MONTH                                                  \n",
              "1      1998   20.903946        9.638920    1 1998-01-01\n",
              "2      1998   27.162743       12.724389    1 1998-02-01\n",
              "3      1998   28.503807       23.913721    1 1998-03-01\n",
              "4      1998   94.114746      137.321091    1 1998-04-01\n",
              "5      1998  121.339172      130.427383    1 1998-05-01\n",
              "...     ...         ...             ...  ...        ...\n",
              "8      2012   77.245155      103.280853    1 2012-08-01\n",
              "9      2012  168.770508      177.671188    1 2012-09-01\n",
              "10     2012  142.981079      225.513306    1 2012-10-01\n",
              "11     2012   42.880787       51.813175    1 2012-11-01\n",
              "12     2012   16.743238       14.739365    1 2012-12-01\n",
              "\n",
              "[180 rows x 5 columns]"
            ]
          },
          "metadata": {
            "tags": []
          },
          "execution_count": 433
        }
      ]
    },
    {
      "cell_type": "code",
      "metadata": {
        "colab": {
          "base_uri": "https://localhost:8080/"
        },
        "id": "y4UDI4DvBPNO",
        "outputId": "439eb7d5-9744-404a-aec2-1af4850522df"
      },
      "source": [
        "\n",
        "df['YEAR'].unique"
      ],
      "execution_count": null,
      "outputs": [
        {
          "output_type": "execute_result",
          "data": {
            "text/plain": [
              "<bound method Series.unique of MONTH\n",
              "1     1998\n",
              "2     1998\n",
              "3     1998\n",
              "4     1998\n",
              "5     1998\n",
              "      ... \n",
              "8     2012\n",
              "9     2012\n",
              "10    2012\n",
              "11    2012\n",
              "12    2012\n",
              "Name: YEAR, Length: 180, dtype: int64>"
            ]
          },
          "metadata": {
            "tags": []
          },
          "execution_count": 434
        }
      ]
    },
    {
      "cell_type": "code",
      "metadata": {
        "colab": {
          "base_uri": "https://localhost:8080/"
        },
        "id": "XB3mvjBy-1sx",
        "outputId": "e14cdb5a-3469-473f-cc41-88c64e32b56e"
      },
      "source": [
        "#monthly average for GAUGE data\n",
        "monthly_gauge_avg = []\n",
        "\n",
        "for month in range(1,13):\n",
        "  monthly_gauge = df.at[month,'GAUGE'].mean()\n",
        "  monthly_gauge_avg.append(monthly_gauge)\n",
        "  \n",
        "\n",
        "\n",
        "print(monthly_gauge_avg)\n",
        "\n"
      ],
      "execution_count": null,
      "outputs": [
        {
          "output_type": "stream",
          "text": [
            "[17.804244454706666, 30.44115320841333, 57.19450581868, 106.35826721192666, 126.7671702067, 163.18253631592668, 132.4933344523133, 126.21882069905999, 161.96386413574663, 122.48898569744001, 38.83142356872667, 21.724147669479994]\n"
          ],
          "name": "stdout"
        }
      ]
    },
    {
      "cell_type": "code",
      "metadata": {
        "colab": {
          "base_uri": "https://localhost:8080/"
        },
        "id": "j2ipNVbyFPCR",
        "outputId": "5d9e677c-454a-4dfe-9bc6-4f2315f107aa"
      },
      "source": [
        "#monthly average for SATELLITE data\n",
        "monthly_satellite_avg = []\n",
        "\n",
        "for month in range(1,13):\n",
        "  monthly_satellite = df.at[month,'SATELLITE_DATA'].mean()\n",
        "  monthly_satellite_avg.append(monthly_satellite)\n",
        "\n",
        "print(monthly_satellite_avg)"
      ],
      "execution_count": null,
      "outputs": [
        {
          "output_type": "stream",
          "text": [
            "[8.881255038586666, 25.397106043506668, 63.50696398418, 113.95359039305335, 141.09204610189335, 177.44521738690668, 158.63907368978, 146.37780303954665, 187.74963124593333, 146.51679992676, 40.3279132843, 14.679569530486667]\n"
          ],
          "name": "stdout"
        }
      ]
    },
    {
      "cell_type": "code",
      "metadata": {
        "colab": {
          "base_uri": "https://localhost:8080/",
          "height": 406
        },
        "id": "NarAQxPLITkz",
        "outputId": "68412053-0fc1-48c9-820e-bccb3c0aac2e"
      },
      "source": [
        "df = df.reset_index()\n",
        "df"
      ],
      "execution_count": null,
      "outputs": [
        {
          "output_type": "execute_result",
          "data": {
            "text/html": [
              "<div>\n",
              "<style scoped>\n",
              "    .dataframe tbody tr th:only-of-type {\n",
              "        vertical-align: middle;\n",
              "    }\n",
              "\n",
              "    .dataframe tbody tr th {\n",
              "        vertical-align: top;\n",
              "    }\n",
              "\n",
              "    .dataframe thead th {\n",
              "        text-align: right;\n",
              "    }\n",
              "</style>\n",
              "<table border=\"1\" class=\"dataframe\">\n",
              "  <thead>\n",
              "    <tr style=\"text-align: right;\">\n",
              "      <th></th>\n",
              "      <th>MONTH</th>\n",
              "      <th>YEAR</th>\n",
              "      <th>GAUGE</th>\n",
              "      <th>SATELLITE_DATA</th>\n",
              "      <th>DAY</th>\n",
              "      <th>DATE</th>\n",
              "    </tr>\n",
              "  </thead>\n",
              "  <tbody>\n",
              "    <tr>\n",
              "      <th>0</th>\n",
              "      <td>1</td>\n",
              "      <td>1998</td>\n",
              "      <td>20.903946</td>\n",
              "      <td>9.638920</td>\n",
              "      <td>1</td>\n",
              "      <td>1998-01-01</td>\n",
              "    </tr>\n",
              "    <tr>\n",
              "      <th>1</th>\n",
              "      <td>2</td>\n",
              "      <td>1998</td>\n",
              "      <td>27.162743</td>\n",
              "      <td>12.724389</td>\n",
              "      <td>1</td>\n",
              "      <td>1998-02-01</td>\n",
              "    </tr>\n",
              "    <tr>\n",
              "      <th>2</th>\n",
              "      <td>3</td>\n",
              "      <td>1998</td>\n",
              "      <td>28.503807</td>\n",
              "      <td>23.913721</td>\n",
              "      <td>1</td>\n",
              "      <td>1998-03-01</td>\n",
              "    </tr>\n",
              "    <tr>\n",
              "      <th>3</th>\n",
              "      <td>4</td>\n",
              "      <td>1998</td>\n",
              "      <td>94.114746</td>\n",
              "      <td>137.321091</td>\n",
              "      <td>1</td>\n",
              "      <td>1998-04-01</td>\n",
              "    </tr>\n",
              "    <tr>\n",
              "      <th>4</th>\n",
              "      <td>5</td>\n",
              "      <td>1998</td>\n",
              "      <td>121.339172</td>\n",
              "      <td>130.427383</td>\n",
              "      <td>1</td>\n",
              "      <td>1998-05-01</td>\n",
              "    </tr>\n",
              "    <tr>\n",
              "      <th>...</th>\n",
              "      <td>...</td>\n",
              "      <td>...</td>\n",
              "      <td>...</td>\n",
              "      <td>...</td>\n",
              "      <td>...</td>\n",
              "      <td>...</td>\n",
              "    </tr>\n",
              "    <tr>\n",
              "      <th>175</th>\n",
              "      <td>8</td>\n",
              "      <td>2012</td>\n",
              "      <td>77.245155</td>\n",
              "      <td>103.280853</td>\n",
              "      <td>1</td>\n",
              "      <td>2012-08-01</td>\n",
              "    </tr>\n",
              "    <tr>\n",
              "      <th>176</th>\n",
              "      <td>9</td>\n",
              "      <td>2012</td>\n",
              "      <td>168.770508</td>\n",
              "      <td>177.671188</td>\n",
              "      <td>1</td>\n",
              "      <td>2012-09-01</td>\n",
              "    </tr>\n",
              "    <tr>\n",
              "      <th>177</th>\n",
              "      <td>10</td>\n",
              "      <td>2012</td>\n",
              "      <td>142.981079</td>\n",
              "      <td>225.513306</td>\n",
              "      <td>1</td>\n",
              "      <td>2012-10-01</td>\n",
              "    </tr>\n",
              "    <tr>\n",
              "      <th>178</th>\n",
              "      <td>11</td>\n",
              "      <td>2012</td>\n",
              "      <td>42.880787</td>\n",
              "      <td>51.813175</td>\n",
              "      <td>1</td>\n",
              "      <td>2012-11-01</td>\n",
              "    </tr>\n",
              "    <tr>\n",
              "      <th>179</th>\n",
              "      <td>12</td>\n",
              "      <td>2012</td>\n",
              "      <td>16.743238</td>\n",
              "      <td>14.739365</td>\n",
              "      <td>1</td>\n",
              "      <td>2012-12-01</td>\n",
              "    </tr>\n",
              "  </tbody>\n",
              "</table>\n",
              "<p>180 rows × 6 columns</p>\n",
              "</div>"
            ],
            "text/plain": [
              "     MONTH  YEAR       GAUGE  SATELLITE_DATA  DAY       DATE\n",
              "0        1  1998   20.903946        9.638920    1 1998-01-01\n",
              "1        2  1998   27.162743       12.724389    1 1998-02-01\n",
              "2        3  1998   28.503807       23.913721    1 1998-03-01\n",
              "3        4  1998   94.114746      137.321091    1 1998-04-01\n",
              "4        5  1998  121.339172      130.427383    1 1998-05-01\n",
              "..     ...   ...         ...             ...  ...        ...\n",
              "175      8  2012   77.245155      103.280853    1 2012-08-01\n",
              "176      9  2012  168.770508      177.671188    1 2012-09-01\n",
              "177     10  2012  142.981079      225.513306    1 2012-10-01\n",
              "178     11  2012   42.880787       51.813175    1 2012-11-01\n",
              "179     12  2012   16.743238       14.739365    1 2012-12-01\n",
              "\n",
              "[180 rows x 6 columns]"
            ]
          },
          "metadata": {
            "tags": []
          },
          "execution_count": 437
        }
      ]
    },
    {
      "cell_type": "code",
      "metadata": {
        "id": "_1lDyZYVHeY5"
      },
      "source": [
        "date = pd.to_datetime(df[[\"YEAR\", \"MONTH\", \"DAY\"]])\n",
        "date = df['DATE']"
      ],
      "execution_count": null,
      "outputs": []
    },
    {
      "cell_type": "code",
      "metadata": {
        "colab": {
          "base_uri": "https://localhost:8080/",
          "height": 406
        },
        "id": "efmfe63uI9vD",
        "outputId": "4c548401-5737-4959-c692-2325ac3a700e"
      },
      "source": [
        "df"
      ],
      "execution_count": null,
      "outputs": [
        {
          "output_type": "execute_result",
          "data": {
            "text/html": [
              "<div>\n",
              "<style scoped>\n",
              "    .dataframe tbody tr th:only-of-type {\n",
              "        vertical-align: middle;\n",
              "    }\n",
              "\n",
              "    .dataframe tbody tr th {\n",
              "        vertical-align: top;\n",
              "    }\n",
              "\n",
              "    .dataframe thead th {\n",
              "        text-align: right;\n",
              "    }\n",
              "</style>\n",
              "<table border=\"1\" class=\"dataframe\">\n",
              "  <thead>\n",
              "    <tr style=\"text-align: right;\">\n",
              "      <th></th>\n",
              "      <th>MONTH</th>\n",
              "      <th>YEAR</th>\n",
              "      <th>GAUGE</th>\n",
              "      <th>SATELLITE_DATA</th>\n",
              "      <th>DAY</th>\n",
              "      <th>DATE</th>\n",
              "    </tr>\n",
              "  </thead>\n",
              "  <tbody>\n",
              "    <tr>\n",
              "      <th>0</th>\n",
              "      <td>1</td>\n",
              "      <td>1998</td>\n",
              "      <td>20.903946</td>\n",
              "      <td>9.638920</td>\n",
              "      <td>1</td>\n",
              "      <td>1998-01-01</td>\n",
              "    </tr>\n",
              "    <tr>\n",
              "      <th>1</th>\n",
              "      <td>2</td>\n",
              "      <td>1998</td>\n",
              "      <td>27.162743</td>\n",
              "      <td>12.724389</td>\n",
              "      <td>1</td>\n",
              "      <td>1998-02-01</td>\n",
              "    </tr>\n",
              "    <tr>\n",
              "      <th>2</th>\n",
              "      <td>3</td>\n",
              "      <td>1998</td>\n",
              "      <td>28.503807</td>\n",
              "      <td>23.913721</td>\n",
              "      <td>1</td>\n",
              "      <td>1998-03-01</td>\n",
              "    </tr>\n",
              "    <tr>\n",
              "      <th>3</th>\n",
              "      <td>4</td>\n",
              "      <td>1998</td>\n",
              "      <td>94.114746</td>\n",
              "      <td>137.321091</td>\n",
              "      <td>1</td>\n",
              "      <td>1998-04-01</td>\n",
              "    </tr>\n",
              "    <tr>\n",
              "      <th>4</th>\n",
              "      <td>5</td>\n",
              "      <td>1998</td>\n",
              "      <td>121.339172</td>\n",
              "      <td>130.427383</td>\n",
              "      <td>1</td>\n",
              "      <td>1998-05-01</td>\n",
              "    </tr>\n",
              "    <tr>\n",
              "      <th>...</th>\n",
              "      <td>...</td>\n",
              "      <td>...</td>\n",
              "      <td>...</td>\n",
              "      <td>...</td>\n",
              "      <td>...</td>\n",
              "      <td>...</td>\n",
              "    </tr>\n",
              "    <tr>\n",
              "      <th>175</th>\n",
              "      <td>8</td>\n",
              "      <td>2012</td>\n",
              "      <td>77.245155</td>\n",
              "      <td>103.280853</td>\n",
              "      <td>1</td>\n",
              "      <td>2012-08-01</td>\n",
              "    </tr>\n",
              "    <tr>\n",
              "      <th>176</th>\n",
              "      <td>9</td>\n",
              "      <td>2012</td>\n",
              "      <td>168.770508</td>\n",
              "      <td>177.671188</td>\n",
              "      <td>1</td>\n",
              "      <td>2012-09-01</td>\n",
              "    </tr>\n",
              "    <tr>\n",
              "      <th>177</th>\n",
              "      <td>10</td>\n",
              "      <td>2012</td>\n",
              "      <td>142.981079</td>\n",
              "      <td>225.513306</td>\n",
              "      <td>1</td>\n",
              "      <td>2012-10-01</td>\n",
              "    </tr>\n",
              "    <tr>\n",
              "      <th>178</th>\n",
              "      <td>11</td>\n",
              "      <td>2012</td>\n",
              "      <td>42.880787</td>\n",
              "      <td>51.813175</td>\n",
              "      <td>1</td>\n",
              "      <td>2012-11-01</td>\n",
              "    </tr>\n",
              "    <tr>\n",
              "      <th>179</th>\n",
              "      <td>12</td>\n",
              "      <td>2012</td>\n",
              "      <td>16.743238</td>\n",
              "      <td>14.739365</td>\n",
              "      <td>1</td>\n",
              "      <td>2012-12-01</td>\n",
              "    </tr>\n",
              "  </tbody>\n",
              "</table>\n",
              "<p>180 rows × 6 columns</p>\n",
              "</div>"
            ],
            "text/plain": [
              "     MONTH  YEAR       GAUGE  SATELLITE_DATA  DAY       DATE\n",
              "0        1  1998   20.903946        9.638920    1 1998-01-01\n",
              "1        2  1998   27.162743       12.724389    1 1998-02-01\n",
              "2        3  1998   28.503807       23.913721    1 1998-03-01\n",
              "3        4  1998   94.114746      137.321091    1 1998-04-01\n",
              "4        5  1998  121.339172      130.427383    1 1998-05-01\n",
              "..     ...   ...         ...             ...  ...        ...\n",
              "175      8  2012   77.245155      103.280853    1 2012-08-01\n",
              "176      9  2012  168.770508      177.671188    1 2012-09-01\n",
              "177     10  2012  142.981079      225.513306    1 2012-10-01\n",
              "178     11  2012   42.880787       51.813175    1 2012-11-01\n",
              "179     12  2012   16.743238       14.739365    1 2012-12-01\n",
              "\n",
              "[180 rows x 6 columns]"
            ]
          },
          "metadata": {
            "tags": []
          },
          "execution_count": 439
        }
      ]
    },
    {
      "cell_type": "code",
      "metadata": {
        "id": "tQ3Hh03UEWz0",
        "colab": {
          "base_uri": "https://localhost:8080/",
          "height": 527
        },
        "outputId": "08062cf4-4992-4035-beab-a5ef00689060"
      },
      "source": [
        "#yearly average for both GAUGE and SATELLITE data\n",
        "df1 = df[['YEAR', 'GAUGE', 'SATELLITE_DATA','DATE']]\n",
        "yearly_avg = df1.resample('Y', on='DATE').mean()\n",
        "#yearly_avg = df1.reset_index(drop=True, inplace=True)\n",
        "yearly_avg\n"
      ],
      "execution_count": null,
      "outputs": [
        {
          "output_type": "execute_result",
          "data": {
            "text/html": [
              "<div>\n",
              "<style scoped>\n",
              "    .dataframe tbody tr th:only-of-type {\n",
              "        vertical-align: middle;\n",
              "    }\n",
              "\n",
              "    .dataframe tbody tr th {\n",
              "        vertical-align: top;\n",
              "    }\n",
              "\n",
              "    .dataframe thead th {\n",
              "        text-align: right;\n",
              "    }\n",
              "</style>\n",
              "<table border=\"1\" class=\"dataframe\">\n",
              "  <thead>\n",
              "    <tr style=\"text-align: right;\">\n",
              "      <th></th>\n",
              "      <th>YEAR</th>\n",
              "      <th>GAUGE</th>\n",
              "      <th>SATELLITE_DATA</th>\n",
              "    </tr>\n",
              "    <tr>\n",
              "      <th>DATE</th>\n",
              "      <th></th>\n",
              "      <th></th>\n",
              "      <th></th>\n",
              "    </tr>\n",
              "  </thead>\n",
              "  <tbody>\n",
              "    <tr>\n",
              "      <th>1998-12-31</th>\n",
              "      <td>1998</td>\n",
              "      <td>82.319653</td>\n",
              "      <td>88.381331</td>\n",
              "    </tr>\n",
              "    <tr>\n",
              "      <th>1999-12-31</th>\n",
              "      <td>1999</td>\n",
              "      <td>103.864275</td>\n",
              "      <td>117.288323</td>\n",
              "    </tr>\n",
              "    <tr>\n",
              "      <th>2000-12-31</th>\n",
              "      <td>2000</td>\n",
              "      <td>91.058358</td>\n",
              "      <td>93.079940</td>\n",
              "    </tr>\n",
              "    <tr>\n",
              "      <th>2001-12-31</th>\n",
              "      <td>2001</td>\n",
              "      <td>82.534716</td>\n",
              "      <td>86.158855</td>\n",
              "    </tr>\n",
              "    <tr>\n",
              "      <th>2002-12-31</th>\n",
              "      <td>2002</td>\n",
              "      <td>97.269077</td>\n",
              "      <td>100.720435</td>\n",
              "    </tr>\n",
              "    <tr>\n",
              "      <th>2003-12-31</th>\n",
              "      <td>2003</td>\n",
              "      <td>94.626112</td>\n",
              "      <td>105.518064</td>\n",
              "    </tr>\n",
              "    <tr>\n",
              "      <th>2004-12-31</th>\n",
              "      <td>2004</td>\n",
              "      <td>94.879050</td>\n",
              "      <td>96.195569</td>\n",
              "    </tr>\n",
              "    <tr>\n",
              "      <th>2005-12-31</th>\n",
              "      <td>2005</td>\n",
              "      <td>91.036123</td>\n",
              "      <td>93.425729</td>\n",
              "    </tr>\n",
              "    <tr>\n",
              "      <th>2006-12-31</th>\n",
              "      <td>2006</td>\n",
              "      <td>89.029077</td>\n",
              "      <td>96.896917</td>\n",
              "    </tr>\n",
              "    <tr>\n",
              "      <th>2007-12-31</th>\n",
              "      <td>2007</td>\n",
              "      <td>92.425246</td>\n",
              "      <td>112.825048</td>\n",
              "    </tr>\n",
              "    <tr>\n",
              "      <th>2008-12-31</th>\n",
              "      <td>2008</td>\n",
              "      <td>94.980057</td>\n",
              "      <td>109.397329</td>\n",
              "    </tr>\n",
              "    <tr>\n",
              "      <th>2009-12-31</th>\n",
              "      <td>2009</td>\n",
              "      <td>89.488873</td>\n",
              "      <td>106.392679</td>\n",
              "    </tr>\n",
              "    <tr>\n",
              "      <th>2010-12-31</th>\n",
              "      <td>2010</td>\n",
              "      <td>94.004982</td>\n",
              "      <td>114.245025</td>\n",
              "    </tr>\n",
              "    <tr>\n",
              "      <th>2011-12-31</th>\n",
              "      <td>2011</td>\n",
              "      <td>93.644635</td>\n",
              "      <td>109.803135</td>\n",
              "    </tr>\n",
              "    <tr>\n",
              "      <th>2012-12-31</th>\n",
              "      <td>2012</td>\n",
              "      <td>90.675332</td>\n",
              "      <td>100.380334</td>\n",
              "    </tr>\n",
              "  </tbody>\n",
              "</table>\n",
              "</div>"
            ],
            "text/plain": [
              "            YEAR       GAUGE  SATELLITE_DATA\n",
              "DATE                                        \n",
              "1998-12-31  1998   82.319653       88.381331\n",
              "1999-12-31  1999  103.864275      117.288323\n",
              "2000-12-31  2000   91.058358       93.079940\n",
              "2001-12-31  2001   82.534716       86.158855\n",
              "2002-12-31  2002   97.269077      100.720435\n",
              "2003-12-31  2003   94.626112      105.518064\n",
              "2004-12-31  2004   94.879050       96.195569\n",
              "2005-12-31  2005   91.036123       93.425729\n",
              "2006-12-31  2006   89.029077       96.896917\n",
              "2007-12-31  2007   92.425246      112.825048\n",
              "2008-12-31  2008   94.980057      109.397329\n",
              "2009-12-31  2009   89.488873      106.392679\n",
              "2010-12-31  2010   94.004982      114.245025\n",
              "2011-12-31  2011   93.644635      109.803135\n",
              "2012-12-31  2012   90.675332      100.380334"
            ]
          },
          "metadata": {
            "tags": []
          },
          "execution_count": 440
        }
      ]
    },
    {
      "cell_type": "code",
      "metadata": {
        "colab": {
          "base_uri": "https://localhost:8080/"
        },
        "id": "GE4-GALv2aaP",
        "outputId": "e85884e6-9ad2-40cf-fefd-08ed38d1aeff"
      },
      "source": [
        "yearly_avg['GAUGE']"
      ],
      "execution_count": null,
      "outputs": [
        {
          "output_type": "execute_result",
          "data": {
            "text/plain": [
              "DATE\n",
              "1998-12-31     82.319653\n",
              "1999-12-31    103.864275\n",
              "2000-12-31     91.058358\n",
              "2001-12-31     82.534716\n",
              "2002-12-31     97.269077\n",
              "2003-12-31     94.626112\n",
              "2004-12-31     94.879050\n",
              "2005-12-31     91.036123\n",
              "2006-12-31     89.029077\n",
              "2007-12-31     92.425246\n",
              "2008-12-31     94.980057\n",
              "2009-12-31     89.488873\n",
              "2010-12-31     94.004982\n",
              "2011-12-31     93.644635\n",
              "2012-12-31     90.675332\n",
              "Freq: A-DEC, Name: GAUGE, dtype: float64"
            ]
          },
          "metadata": {
            "tags": []
          },
          "execution_count": 441
        }
      ]
    },
    {
      "cell_type": "code",
      "metadata": {
        "colab": {
          "base_uri": "https://localhost:8080/",
          "height": 406
        },
        "id": "Ybvy44jkatDP",
        "outputId": "de5a7d4d-4a55-42f3-e496-998bc66a6db7"
      },
      "source": [
        "\n",
        "df\n"
      ],
      "execution_count": null,
      "outputs": [
        {
          "output_type": "execute_result",
          "data": {
            "text/html": [
              "<div>\n",
              "<style scoped>\n",
              "    .dataframe tbody tr th:only-of-type {\n",
              "        vertical-align: middle;\n",
              "    }\n",
              "\n",
              "    .dataframe tbody tr th {\n",
              "        vertical-align: top;\n",
              "    }\n",
              "\n",
              "    .dataframe thead th {\n",
              "        text-align: right;\n",
              "    }\n",
              "</style>\n",
              "<table border=\"1\" class=\"dataframe\">\n",
              "  <thead>\n",
              "    <tr style=\"text-align: right;\">\n",
              "      <th></th>\n",
              "      <th>YEAR</th>\n",
              "      <th>MONTH</th>\n",
              "      <th>GAUGE</th>\n",
              "      <th>SATELLITE_DATA</th>\n",
              "      <th>DAY</th>\n",
              "    </tr>\n",
              "  </thead>\n",
              "  <tbody>\n",
              "    <tr>\n",
              "      <th>0</th>\n",
              "      <td>1998</td>\n",
              "      <td>1</td>\n",
              "      <td>20.903946</td>\n",
              "      <td>9.638920</td>\n",
              "      <td>1</td>\n",
              "    </tr>\n",
              "    <tr>\n",
              "      <th>1</th>\n",
              "      <td>1998</td>\n",
              "      <td>2</td>\n",
              "      <td>27.162743</td>\n",
              "      <td>12.724389</td>\n",
              "      <td>1</td>\n",
              "    </tr>\n",
              "    <tr>\n",
              "      <th>2</th>\n",
              "      <td>1998</td>\n",
              "      <td>3</td>\n",
              "      <td>28.503807</td>\n",
              "      <td>23.913721</td>\n",
              "      <td>1</td>\n",
              "    </tr>\n",
              "    <tr>\n",
              "      <th>3</th>\n",
              "      <td>1998</td>\n",
              "      <td>4</td>\n",
              "      <td>94.114746</td>\n",
              "      <td>137.321091</td>\n",
              "      <td>1</td>\n",
              "    </tr>\n",
              "    <tr>\n",
              "      <th>4</th>\n",
              "      <td>1998</td>\n",
              "      <td>5</td>\n",
              "      <td>121.339172</td>\n",
              "      <td>130.427383</td>\n",
              "      <td>1</td>\n",
              "    </tr>\n",
              "    <tr>\n",
              "      <th>...</th>\n",
              "      <td>...</td>\n",
              "      <td>...</td>\n",
              "      <td>...</td>\n",
              "      <td>...</td>\n",
              "      <td>...</td>\n",
              "    </tr>\n",
              "    <tr>\n",
              "      <th>175</th>\n",
              "      <td>2012</td>\n",
              "      <td>8</td>\n",
              "      <td>77.245155</td>\n",
              "      <td>103.280853</td>\n",
              "      <td>1</td>\n",
              "    </tr>\n",
              "    <tr>\n",
              "      <th>176</th>\n",
              "      <td>2012</td>\n",
              "      <td>9</td>\n",
              "      <td>168.770508</td>\n",
              "      <td>177.671188</td>\n",
              "      <td>1</td>\n",
              "    </tr>\n",
              "    <tr>\n",
              "      <th>177</th>\n",
              "      <td>2012</td>\n",
              "      <td>10</td>\n",
              "      <td>142.981079</td>\n",
              "      <td>225.513306</td>\n",
              "      <td>1</td>\n",
              "    </tr>\n",
              "    <tr>\n",
              "      <th>178</th>\n",
              "      <td>2012</td>\n",
              "      <td>11</td>\n",
              "      <td>42.880787</td>\n",
              "      <td>51.813175</td>\n",
              "      <td>1</td>\n",
              "    </tr>\n",
              "    <tr>\n",
              "      <th>179</th>\n",
              "      <td>2012</td>\n",
              "      <td>12</td>\n",
              "      <td>16.743238</td>\n",
              "      <td>14.739365</td>\n",
              "      <td>1</td>\n",
              "    </tr>\n",
              "  </tbody>\n",
              "</table>\n",
              "<p>180 rows × 5 columns</p>\n",
              "</div>"
            ],
            "text/plain": [
              "     YEAR  MONTH       GAUGE  SATELLITE_DATA  DAY\n",
              "0    1998      1   20.903946        9.638920    1\n",
              "1    1998      2   27.162743       12.724389    1\n",
              "2    1998      3   28.503807       23.913721    1\n",
              "3    1998      4   94.114746      137.321091    1\n",
              "4    1998      5  121.339172      130.427383    1\n",
              "..    ...    ...         ...             ...  ...\n",
              "175  2012      8   77.245155      103.280853    1\n",
              "176  2012      9  168.770508      177.671188    1\n",
              "177  2012     10  142.981079      225.513306    1\n",
              "178  2012     11   42.880787       51.813175    1\n",
              "179  2012     12   16.743238       14.739365    1\n",
              "\n",
              "[180 rows x 5 columns]"
            ]
          },
          "metadata": {
            "tags": []
          },
          "execution_count": 324
        }
      ]
    },
    {
      "cell_type": "code",
      "metadata": {
        "colab": {
          "base_uri": "https://localhost:8080/"
        },
        "id": "WmsG3PihNjE4",
        "outputId": "37cf7695-bb51-470d-9434-ff99100f222c"
      },
      "source": [
        "#seasonal GAUGE averages\n",
        "s1 = gauge[(year>=1998) & (month==12) | (month==1) | (month==2)]\n",
        "gauge_season1 = s1.mean()\n",
        "\n",
        "s2 = gauge[(year>=1998) & (month==3) | (month==4) | (month==5)]\n",
        "gauge_season2 = s2.mean()\n",
        "\n",
        "s3 = gauge[(year>=1998) & (month==6) | (month==7) | (month==8)]\n",
        "gauge_season3 = s3.mean()\n",
        "\n",
        "s4 = gauge[(year>=1998) & (month==9) | (month==10) | (month==11)]\n",
        "gauge_season4 = s4.mean()\n",
        "\n",
        "#print(gauge_season1)\n",
        "#print(gauge_season2)\n",
        "#print(gauge_season3)\n",
        "#print(gauge_season4)\n"
      ],
      "execution_count": null,
      "outputs": [
        {
          "output_type": "stream",
          "text": [
            "23.323181777533332\n",
            "96.77331441243554\n",
            "140.63156382243332\n",
            "107.76142446730448\n"
          ],
          "name": "stdout"
        }
      ]
    },
    {
      "cell_type": "code",
      "metadata": {
        "colab": {
          "base_uri": "https://localhost:8080/"
        },
        "id": "A8CbL1VjTuJW",
        "outputId": "ef4a4452-5ec3-40ab-d58c-2794247f0594"
      },
      "source": [
        "#seasonal satellite_data averages\n",
        "s1 = satellite_data[(year>=1998) & (month==12) | (month==1) | (month==2)]\n",
        "satellite_data_season1 = s1.mean()\n",
        "\n",
        "s2 = satellite_data[(year>=1998) & (month==3) | (month==4) | (month==5)]\n",
        "satellite_data_season2 = s2.mean()\n",
        "\n",
        "s3 = satellite_data[(year>=1998) & (month==6) | (month==7) | (month==8)]\n",
        "satellite_data_season3 = s3.mean()\n",
        "\n",
        "s4 = satellite_data[(year>=1998) & (month==9) | (month==10) | (month==11)]\n",
        "satellite_data_season4 = s4.mean()\n",
        "\n",
        "#print(satellite_data_season1)\n",
        "#print(satellite_data_season2)\n",
        "#print(satellite_data_season3)\n",
        "#print(satellite_data_season4)\n"
      ],
      "execution_count": null,
      "outputs": [
        {
          "output_type": "stream",
          "text": [
            "16.319310204193336\n",
            "106.18420015970891\n",
            "160.82069803874444\n",
            "124.86478148566442\n"
          ],
          "name": "stdout"
        }
      ]
    },
    {
      "cell_type": "code",
      "metadata": {
        "id": "imfcIBUcdUyS"
      },
      "source": [
        "Mon =[\"JAN\",\"FEB\",\"MAR\",\"APR\",\"MAY\",\"JUN\",\"JUL\",\"AUG\",\"SEP\",\"OCT\",\"NOV\",\"DEC\"]\n",
        "\n",
        "Years =[\"1998\",\"1999\",\"2000\",\"2001\",\"2002\",\"2003\",\"2004\",\"2005\",\"2006\",\"2007\",\"2008\",\"2009\",\"2010\",\"2011\",\"2012\"]"
      ],
      "execution_count": null,
      "outputs": []
    },
    {
      "cell_type": "code",
      "metadata": {
        "id": "0RA1vhjNfvew"
      },
      "source": [
        "seasonal_guage_avg=[gauge_season1, gauge_season2, gauge_season3, gauge_season4]\n",
        "\n",
        "seasonal_satellite_avg=[satellite_data_season1, satellite_data_season2, satellite_data_season3, satellite_data_season4]\n",
        "\n",
        "seasons=[\"Dec-Jan-Feb\",\"Mar-Apr-May\",\"Jun-Jul-Aug\",\"Sep-Oct-Nov\"]"
      ],
      "execution_count": null,
      "outputs": []
    },
    {
      "cell_type": "code",
      "metadata": {
        "colab": {
          "base_uri": "https://localhost:8080/",
          "height": 572
        },
        "id": "BLcXzo4HgB8V",
        "outputId": "69269907-5157-4810-8d45-cab6aa9d7d7c"
      },
      "source": [
        "#Graph for comparison for Guage and Satellite on Monthly Scale \n",
        "fig = plt.figure(figsize=(40,20))\n",
        "ax1 = fig.add_subplot(2,2,1)\n",
        "plt.plot(Mon,monthly_gauge_avg,color='r',marker=\"o\",linewidth=3, label=\"Monthly Guage Average\",markersize=7)\n",
        "plt.plot(Mon,monthly_satellite_avg,color='g',marker=\"o\",linewidth=3, label=\"Monthly Satellite Average\",markersize=7)\n",
        "plt.grid()\n",
        "plt.legend()\n",
        "plt.title(\"A Graph of Monthly Average from 1998-2012 of Both Guage and Satellite Data\")\n",
        "plt.xlabel(\"Months\")\n",
        "plt.ylabel(\" Monthly Average Values(mm)\")\n",
        "plt. savefig(\"Monthlygraph.png\",bbox_inches='tight')\n",
        "plt.show()"
      ],
      "execution_count": null,
      "outputs": [
        {
          "output_type": "display_data",
          "data": {
            "image/png": "[encoded data removed]",
            "text/plain": [
              "<Figure size 2880x1440 with 1 Axes>"
            ]
          },
          "metadata": {
            "tags": [],
            "needs_background": "light"
          }
        }
      ]
    },
    {
      "cell_type": "code",
      "metadata": {
        "colab": {
          "base_uri": "https://localhost:8080/",
          "height": 572
        },
        "id": "-bqdKIQ-zOGn",
        "outputId": "6b215947-859c-4cf7-bb38-fcd5651d391b"
      },
      "source": [
        "fig = plt.figure(figsize=(40,20))\n",
        "ax1 = fig.add_subplot(2,2,1)\n",
        "plt.plot(Years ,yearly_avg[[\"GAUGE\"]].values,color='red',marker=\"o\",linewidth=3, label=\"Annual Gauge Scale\",markersize=7)\n",
        "plt.plot(Years ,yearly_avg[[\"SATELLITE_DATA\"]].values,color='b',marker=\"o\",linewidth=3, label=\"Annual Satellite Scale\",markersize=7)\n",
        "#yearly_avg.plot(x=\"YEAR\", y=[\"GAUGE\", \"SATELLITE_DATA\"])\n",
        "plt.grid()\n",
        "plt.legend()\n",
        "plt.title(\"A Graph of Annual Averages from 1998-2012 of Both Guage and Satellite Data\")\n",
        "plt.xlabel(\"Year\")\n",
        "plt.ylabel(\"Annual Average Values(mm)\")\n",
        "plt. savefig(\"AnnualAvg.png\",bbox_inches='tight')\n",
        "\n",
        "plt.show()"
      ],
      "execution_count": null,
      "outputs": [
        {
          "output_type": "display_data",
          "data": {
            "image/png": "[encoded data removed]",
            "text/plain": [
              "<Figure size 2880x1440 with 1 Axes>"
            ]
          },
          "metadata": {
            "tags": [],
            "needs_background": "light"
          }
        }
      ]
    },
    {
      "cell_type": "code",
      "metadata": {
        "colab": {
          "base_uri": "https://localhost:8080/",
          "height": 572
        },
        "id": "wRf_Un1X6qU3",
        "outputId": "0f4dea04-992c-4197-96fd-9620a2f1415c"
      },
      "source": [
        "#Graph for comparison for Guage and Satellite on a  Seasonal Scale \n",
        "fig = plt.figure(figsize=(40,20))\n",
        "ax1 = fig.add_subplot(2,2,1)\n",
        "plt.plot(seasons ,seasonal_guage_avg,color='green',marker=\"o\",linewidth=3, label=\"Seasonal Gauge Scale\",markersize=7)\n",
        "plt.plot(seasons ,seasonal_satellite_avg,color='yellow',marker=\"o\",linewidth=3, label=\"Seasonal Satellite Scale\",markersize=7)\n",
        "plt.grid()\n",
        "plt.legend()\n",
        "plt.title(\"A Graph of Seasonal Averages from 1998-2012 of Both Guage and Satellite Scale\")\n",
        "plt.xlabel(\"Seasons\")\n",
        "plt.ylabel(\"Seasonal Average Values(mm)\")\n",
        "plt. savefig(\"Seasonalgraph.svg\",bbox_inches='tight')\n",
        "plt.show()"
      ],
      "execution_count": null,
      "outputs": [
        {
          "output_type": "display_data",
          "data": {
            "image/png": "[encoded data removed]",
            "text/plain": [
              "<Figure size 2880x1440 with 1 Axes>"
            ]
          },
          "metadata": {
            "tags": [],
            "needs_background": "light"
          }
        }
      ]
    },
    {
      "cell_type": "code",
      "metadata": {
        "id": "bp8cb6TV618Z"
      },
      "source": [
        ""
      ],
      "execution_count": null,
      "outputs": []
    }
  ]
}